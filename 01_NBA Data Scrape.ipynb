{
 "cells": [
  {
   "cell_type": "code",
   "execution_count": 1,
   "metadata": {},
   "outputs": [],
   "source": [
    "import requests\n",
    "import sys\n",
    "from bs4 import BeautifulSoup\n",
    "import pandas as pd\n",
    "import pickle"
   ]
  },
  {
   "cell_type": "code",
   "execution_count": 2,
   "metadata": {},
   "outputs": [],
   "source": [
    "from selenium import webdriver\n",
    "from selenium.webdriver.common.keys import Keys\n",
    "import time\n",
    "\n",
    "import os\n",
    "chromedriver = \"/Applications/chromedriver\" # path to the chromedriver executable\n",
    "os.environ[\"webdriver.chrome.driver\"] = chromedriver\n",
    "\n",
    "\n",
    "\n",
    "#driver.get(url)"
   ]
  },
  {
   "cell_type": "code",
   "execution_count": 3,
   "metadata": {},
   "outputs": [],
   "source": [
    "teams_list=[\n",
    "    'TOR','BOS','NYK','BRK',\n",
    "    'PHI','CLE','IND','DET',\n",
    "    'CHI','MIL','MIA','ATL',\n",
    "    'CHO','WAS','ORL','OKC',\n",
    "    'POR','UTA','DEN','MIN',\n",
    "    'GSW','LAC','SAC','PHO',\n",
    "    'LAL','SAS','DAL','MEM',\n",
    "    'HOU','NOP'\n",
    "    ]\n",
    "years = ['2019','2018','2017','2016','2015']"
   ]
  },
  {
   "cell_type": "code",
   "execution_count": null,
   "metadata": {},
   "outputs": [],
   "source": [
    "# url = 'https://www.basketball-reference.com/teams/GSW/2016.html'\n",
    "# driver.get(url)\n",
    "# record = driver.find_element_by_xpath('//*[@id=\"meta\"]/div[2]/p[1]').text"
   ]
  },
  {
   "cell_type": "code",
   "execution_count": 4,
   "metadata": {},
   "outputs": [
    {
     "data": {
      "text/plain": [
       "<bound method WebDriver.close of <selenium.webdriver.chrome.webdriver.WebDriver (session=\"6b9fd842b1e3796e89b044c411590d55\")>>"
      ]
     },
     "execution_count": 4,
     "metadata": {},
     "output_type": "execute_result"
    }
   ],
   "source": [
    "nba_per_poss_data = list()\n",
    "driver = webdriver.Chrome(chromedriver)\n",
    "for year in years:\n",
    "    for team in teams_list:\n",
    "        url = 'https://www.basketball-reference.com/teams/' + team + '/' + year + '.html'\n",
    "        driver.get(url)\n",
    "        soup=BeautifulSoup(driver.page_source, \"html.parser\")\n",
    "        table = soup.find_all('table', {'class':'sortable stats_table now_sortable',\n",
    "                           'id':'per_poss'})\n",
    "        \n",
    "        df=pd.read_html(str(table))[0]\n",
    "        df['year'] = year\n",
    "        record = driver.find_element_by_xpath('//*[@id=\"meta\"]/div[2]/p[1]').text\n",
    "        wins = record.split('-')[0][-2:]\n",
    "        wins = int(wins)\n",
    "        losses = record.split('-')[1][:4]\n",
    "        losses = losses.split(',')[0]\n",
    "        losses = int(losses)\n",
    "        df['wins'] = wins\n",
    "        df['losses'] = losses\n",
    "        df['win_percentages'] = wins/(wins+losses)\n",
    "        nba_per_poss_data.append(df)\n",
    "driver.close       \n",
    "    \n"
   ]
  },
  {
   "cell_type": "code",
   "execution_count": 5,
   "metadata": {},
   "outputs": [],
   "source": [
    "pickle.dump(nba_per_poss_data, open('current_nba_per_poss_data.p','wb'))"
   ]
  },
  {
   "cell_type": "code",
   "execution_count": null,
   "metadata": {},
   "outputs": [],
   "source": [
    "# nba_per_poss_data= pickle.load(open('current_nba_per_poss_data.p','rb'))"
   ]
  },
  {
   "cell_type": "code",
   "execution_count": 6,
   "metadata": {},
   "outputs": [],
   "source": [
    "old_teams_list =[\n",
    "    'MIA','NYK','NJN','LAC',\n",
    "    'ORL','BOS','PHI','CHI',\n",
    "    'IND','CHH','ATL','CLE',\n",
    "    'DET','MIL','TOR','UTA',\n",
    "    'SAS','MIN','HOU','DAL',\n",
    "    'VAN','DEN','SEA','LAL',\n",
    "    'PHO','POR','SAC','GSW',\n",
    "    'WAS','WSB'\n",
    "]\n",
    "\n",
    "old_years = ['1998','1997','1996','1995','1994']"
   ]
  },
  {
   "cell_type": "code",
   "execution_count": null,
   "metadata": {},
   "outputs": [],
   "source": []
  },
  {
   "cell_type": "code",
   "execution_count": 8,
   "metadata": {},
   "outputs": [
    {
     "data": {
      "text/plain": [
       "<bound method WebDriver.close of <selenium.webdriver.chrome.webdriver.WebDriver (session=\"be145dee2b4bde21120c44d658e8b922\")>>"
      ]
     },
     "execution_count": 8,
     "metadata": {},
     "output_type": "execute_result"
    }
   ],
   "source": [
    "old_nba_per_poss_data = list()\n",
    "driver = webdriver.Chrome(chromedriver)\n",
    "for year in old_years:\n",
    "    for team in old_teams_list:\n",
    "        url = 'https://www.basketball-reference.com/teams/' + team + '/' + year + '.html'\n",
    "        driver.get(url)\n",
    "        soup=BeautifulSoup(driver.page_source, \"html.parser\")\n",
    "        table = soup.find_all('table', {'class':'sortable stats_table now_sortable',\n",
    "                           'id':'per_poss'})\n",
    "        try:    \n",
    "            df=pd.read_html(str(table))[0]\n",
    "            df['year'] = year\n",
    "            record = driver.find_element_by_xpath('//*[@id=\"meta\"]/div[2]/p[1]').text\n",
    "            wins = record.split('-')[0][-2:]\n",
    "            wins = int(wins)\n",
    "            losses = record.split('-')[1][:4]\n",
    "            losses = losses.split(',')[0]\n",
    "            losses = int(losses)\n",
    "            df['wins'] = wins\n",
    "            df['losses'] = losses\n",
    "            df['win_percentages'] = wins/(wins+losses)\n",
    "            old_nba_per_poss_data.append(df)\n",
    "        except:\n",
    "            pass\n",
    "driver.close"
   ]
  },
  {
   "cell_type": "code",
   "execution_count": 9,
   "metadata": {},
   "outputs": [],
   "source": [
    "pickle.dump(old_nba_per_poss_data, open('old_nba_per_poss_data.p','wb'))"
   ]
  },
  {
   "cell_type": "code",
   "execution_count": null,
   "metadata": {},
   "outputs": [],
   "source": [
    "# old_nba_per_poss_data=pickle.load(open('old_nba_per_poss_data.p','rb'))"
   ]
  },
  {
   "cell_type": "code",
   "execution_count": null,
   "metadata": {},
   "outputs": [],
   "source": []
  },
  {
   "cell_type": "code",
   "execution_count": null,
   "metadata": {},
   "outputs": [],
   "source": []
  }
 ],
 "metadata": {
  "kernelspec": {
   "display_name": "Python 3",
   "language": "python",
   "name": "python3"
  },
  "language_info": {
   "codemirror_mode": {
    "name": "ipython",
    "version": 3
   },
   "file_extension": ".py",
   "mimetype": "text/x-python",
   "name": "python",
   "nbconvert_exporter": "python",
   "pygments_lexer": "ipython3",
   "version": "3.6.8"
  },
  "varInspector": {
   "cols": {
    "lenName": 16,
    "lenType": 16,
    "lenVar": 40
   },
   "kernels_config": {
    "python": {
     "delete_cmd_postfix": "",
     "delete_cmd_prefix": "del ",
     "library": "var_list.py",
     "varRefreshCmd": "print(var_dic_list())"
    },
    "r": {
     "delete_cmd_postfix": ") ",
     "delete_cmd_prefix": "rm(",
     "library": "var_list.r",
     "varRefreshCmd": "cat(var_dic_list()) "
    }
   },
   "types_to_exclude": [
    "module",
    "function",
    "builtin_function_or_method",
    "instance",
    "_Feature"
   ],
   "window_display": false
  }
 },
 "nbformat": 4,
 "nbformat_minor": 2
}
