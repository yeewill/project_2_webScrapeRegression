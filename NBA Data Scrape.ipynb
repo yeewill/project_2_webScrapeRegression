{
 "cells": [
  {
   "cell_type": "code",
   "execution_count": 1,
   "metadata": {},
   "outputs": [],
   "source": [
    "import requests\n",
    "import sys\n",
    "from bs4 import BeautifulSoup\n",
    "import pandas as pd"
   ]
  },
  {
   "cell_type": "code",
   "execution_count": 2,
   "metadata": {},
   "outputs": [],
   "source": [
    "from selenium import webdriver\n",
    "from selenium.webdriver.common.keys import Keys\n",
    "import time\n",
    "\n",
    "import os\n",
    "chromedriver = \"/Applications/chromedriver\" # path to the chromedriver executable\n",
    "os.environ[\"webdriver.chrome.driver\"] = chromedriver\n",
    "\n",
    "\n",
    "driver = webdriver.Chrome(chromedriver)\n",
    "#driver.get(url)"
   ]
  },
  {
   "cell_type": "code",
   "execution_count": 3,
   "metadata": {},
   "outputs": [],
   "source": [
    "teams_list=[\n",
    "    'TOR','BOS','NYK','BRK',\n",
    "    'PHI','CLE','IND','DET',\n",
    "    'CHI','MIL','MIA','ATL',\n",
    "    'CHO','WAS','ORL','OKC',\n",
    "    'POR','UTA','DEN','MIN',\n",
    "    'GSW','LAC','SAC','PHO',\n",
    "    'LAL','SAS','DAL','MEM',\n",
    "    'HOU','NOP'\n",
    "    ]\n",
    "years = ['2018','2017','2016']"
   ]
  },
  {
   "cell_type": "code",
   "execution_count": 4,
   "metadata": {},
   "outputs": [],
   "source": [
    "# url = 'https://www.basketball-reference.com/teams/TOR/2018.html'"
   ]
  },
  {
   "cell_type": "code",
   "execution_count": null,
   "metadata": {},
   "outputs": [],
   "source": [
    "nba_per_poss_data = list()\n",
    "nba_advanced_data = list()\n",
    "for year in years:\n",
    "    for team in teams_list:\n",
    "        url = 'https://www.basketball-reference.com/teams/' + team + '/' + year + '.html'\n",
    "        driver.get(url)\n",
    "        soup=BeautifulSoup(driver.page_source, \"html.parser\")\n",
    "        table = soup.find_all('table', {'class':'sortable stats_table now_sortable',\n",
    "                           'id':'per_poss'})\n",
    "        df=pd.read_html(str(table))[0]\n",
    "        df['year'] = year\n",
    "        nba_per_poss_data.append(df)\n",
    "    \n",
    "# for year in years:\n",
    "#     for team in teams_list:\n",
    "#         url = 'https://www.basketball-reference.com/teams/' + team + '/' + year + '.html'\n",
    "#         driver.get(url)\n",
    "#         soup=BeautifulSoup(driver.page_source, \"html.parser\")\n",
    "#         table = soup.find_all('table', {'class':'sortable stats_table now_sortable',\n",
    "#                            'id':'advanced'})\n",
    "#         df=pd.read_html(str(table))[0]\n",
    "#         df['year'] = year\n",
    "#         nba_advanced_data.append(df)"
   ]
  },
  {
   "cell_type": "code",
   "execution_count": null,
   "metadata": {},
   "outputs": [],
   "source": [
    "pickle.dump(nba_per_poss_data, open('current_nba_per_poss_data.p','wb'))"
   ]
  },
  {
   "cell_type": "code",
   "execution_count": null,
   "metadata": {},
   "outputs": [],
   "source": []
  },
  {
   "cell_type": "code",
   "execution_count": null,
   "metadata": {},
   "outputs": [],
   "source": []
  },
  {
   "cell_type": "code",
   "execution_count": null,
   "metadata": {},
   "outputs": [],
   "source": []
  },
  {
   "cell_type": "code",
   "execution_count": null,
   "metadata": {},
   "outputs": [],
   "source": []
  },
  {
   "cell_type": "code",
   "execution_count": null,
   "metadata": {},
   "outputs": [],
   "source": []
  },
  {
   "cell_type": "code",
   "execution_count": null,
   "metadata": {},
   "outputs": [],
   "source": []
  },
  {
   "cell_type": "code",
   "execution_count": null,
   "metadata": {},
   "outputs": [],
   "source": []
  },
  {
   "cell_type": "code",
   "execution_count": null,
   "metadata": {},
   "outputs": [],
   "source": []
  },
  {
   "cell_type": "code",
   "execution_count": null,
   "metadata": {},
   "outputs": [],
   "source": []
  }
 ],
 "metadata": {
  "kernelspec": {
   "display_name": "Python 3",
   "language": "python",
   "name": "python3"
  },
  "language_info": {
   "codemirror_mode": {
    "name": "ipython",
    "version": 3
   },
   "file_extension": ".py",
   "mimetype": "text/x-python",
   "name": "python",
   "nbconvert_exporter": "python",
   "pygments_lexer": "ipython3",
   "version": "3.6.8"
  },
  "varInspector": {
   "cols": {
    "lenName": 16,
    "lenType": 16,
    "lenVar": 40
   },
   "kernels_config": {
    "python": {
     "delete_cmd_postfix": "",
     "delete_cmd_prefix": "del ",
     "library": "var_list.py",
     "varRefreshCmd": "print(var_dic_list())"
    },
    "r": {
     "delete_cmd_postfix": ") ",
     "delete_cmd_prefix": "rm(",
     "library": "var_list.r",
     "varRefreshCmd": "cat(var_dic_list()) "
    }
   },
   "types_to_exclude": [
    "module",
    "function",
    "builtin_function_or_method",
    "instance",
    "_Feature"
   ],
   "window_display": false
  }
 },
 "nbformat": 4,
 "nbformat_minor": 2
}
