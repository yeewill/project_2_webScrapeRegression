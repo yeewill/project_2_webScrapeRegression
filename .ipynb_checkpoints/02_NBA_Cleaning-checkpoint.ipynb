{
 "cells": [
  {
   "cell_type": "code",
   "execution_count": null,
   "metadata": {},
   "outputs": [],
   "source": [
    "import pandas as pd\n",
    "import pickle\n",
    "import numpy as np\n",
    "import seaborn as sns\n",
    "import matplotlib.pyplot as plt\n"
   ]
  },
  {
   "cell_type": "code",
   "execution_count": null,
   "metadata": {},
   "outputs": [],
   "source": [
    "new_per_posses = pickle.load(open('current_nba_per_poss_data.p','rb'))"
   ]
  },
  {
   "cell_type": "code",
   "execution_count": null,
   "metadata": {},
   "outputs": [],
   "source": [
    "new_per_posses[1]"
   ]
  },
  {
   "cell_type": "code",
   "execution_count": null,
   "metadata": {},
   "outputs": [],
   "source": [
    "ORtg_p1 = []\n",
    "ORtg_p2 = []\n",
    "ORtg_p3 = []\n",
    "ORtg_p4 = []\n",
    "ORtg_p5 = []\n",
    "DRtg_p1 = []\n",
    "DRtg_p2 = []\n",
    "DRtg_p3 = []\n",
    "DRtg_p4 = []\n",
    "DRtg_p5 = []\n",
    "win_per = []\n",
    "year = []\n",
    "for new_per_poss in new_per_posses:\n",
    "    team_year= new_per_poss[:5].sort_values(by ='ORtg',ascending =False).reset_index()\n",
    "\n",
    "    ORtg_p1.append(team_year.iloc[0,-6])\n",
    "    ORtg_p2.append(team_year.iloc[1,-6])\n",
    "    ORtg_p3.append(team_year.iloc[2,-6])\n",
    "    ORtg_p4.append(team_year.iloc[3,-6])\n",
    "    ORtg_p5.append(team_year.iloc[4,-6])\n",
    "\n",
    "    team_year= new_per_poss[:5].sort_values(by ='DRtg',ascending =False).reset_index()\n",
    "\n",
    "    DRtg_p1.append(team_year.iloc[0,-5])\n",
    "    DRtg_p2.append(team_year.iloc[1,-5])\n",
    "    DRtg_p3.append(team_year.iloc[2,-5])\n",
    "    DRtg_p4.append(team_year.iloc[3,-5])\n",
    "    DRtg_p5.append(team_year.iloc[4,-5])\n",
    "    \n",
    "    win_per.append(team_year.iloc[0,-1])\n",
    "    year.append(team_year.iloc[0,-4])"
   ]
  },
  {
   "cell_type": "code",
   "execution_count": null,
   "metadata": {},
   "outputs": [],
   "source": [
    "team_year_new_per_poss = pd.DataFrame(\n",
    "    {\n",
    "    'ORtg_p1':ORtg_p1,\n",
    "    'ORtg_p2':ORtg_p2,\n",
    "    'ORtg_p3':ORtg_p3,\n",
    "    'ORtg_p4':ORtg_p4,\n",
    "    'ORtg_p5':ORtg_p5,\n",
    "    'DRtg_p1':DRtg_p1,\n",
    "    'DRtg_p2':DRtg_p2,\n",
    "    'DRtg_p3':DRtg_p3,\n",
    "    'DRtg_p4':DRtg_p4,\n",
    "    'DRtg_p5':DRtg_p5,\n",
    "    'win_per':win_per,\n",
    "    'year':year\n",
    "    }\n",
    ")"
   ]
  },
  {
   "cell_type": "code",
   "execution_count": null,
   "metadata": {},
   "outputs": [],
   "source": [
    "pickle.dump(team_year_new_per_poss,open('ready_for_model_new_era.p','wb'))"
   ]
  },
  {
   "cell_type": "code",
   "execution_count": null,
   "metadata": {},
   "outputs": [],
   "source": []
  },
  {
   "cell_type": "code",
   "execution_count": null,
   "metadata": {},
   "outputs": [],
   "source": [
    "old_per_posses = pickle.load(open('Old_nba_per_poss_data.p','rb'))"
   ]
  },
  {
   "cell_type": "code",
   "execution_count": null,
   "metadata": {},
   "outputs": [],
   "source": [
    "ORtg_p1 = []\n",
    "ORtg_p2 = []\n",
    "ORtg_p3 = []\n",
    "ORtg_p4 = []\n",
    "ORtg_p5 = []\n",
    "DRtg_p1 = []\n",
    "DRtg_p2 = []\n",
    "DRtg_p3 = []\n",
    "DRtg_p4 = []\n",
    "DRtg_p5 = []\n",
    "win_per = []\n",
    "year=[]\n",
    "for old_per_poss in old_per_posses:\n",
    "    team_year= old_per_poss[:5].sort_values(by ='ORtg',ascending =False).reset_index()\n",
    "\n",
    "    ORtg_p1.append(team_year.iloc[0,-6])\n",
    "    ORtg_p2.append(team_year.iloc[1,-6])\n",
    "    ORtg_p3.append(team_year.iloc[2,-6])\n",
    "    ORtg_p4.append(team_year.iloc[3,-6])\n",
    "    ORtg_p5.append(team_year.iloc[4,-6])\n",
    "\n",
    "    team_year= old_per_poss[:5].sort_values(by ='DRtg',ascending =False).reset_index()\n",
    "\n",
    "    DRtg_p1.append(team_year.iloc[0,-5])\n",
    "    DRtg_p2.append(team_year.iloc[1,-5])\n",
    "    DRtg_p3.append(team_year.iloc[2,-5])\n",
    "    DRtg_p4.append(team_year.iloc[3,-5])\n",
    "    DRtg_p5.append(team_year.iloc[4,-5])\n",
    "    \n",
    "    win_per.append(team_year.iloc[0,-1])\n",
    "    year.append(team_year.iloc[0,-4])"
   ]
  },
  {
   "cell_type": "code",
   "execution_count": null,
   "metadata": {},
   "outputs": [],
   "source": [
    "team_year_old_per_poss = pd.DataFrame(\n",
    "    {\n",
    "    'ORtg_p1':ORtg_p1,\n",
    "    'ORtg_p2':ORtg_p2,\n",
    "    'ORtg_p3':ORtg_p3,\n",
    "    'ORtg_p4':ORtg_p4,\n",
    "    'ORtg_p5':ORtg_p5,\n",
    "    'DRtg_p1':DRtg_p1,\n",
    "    'DRtg_p2':DRtg_p2,\n",
    "    'DRtg_p3':DRtg_p3,\n",
    "    'DRtg_p4':DRtg_p4,\n",
    "    'DRtg_p5':DRtg_p5,\n",
    "    'win_per':win_per,\n",
    "    'year':year\n",
    "    }\n",
    ")"
   ]
  },
  {
   "cell_type": "code",
   "execution_count": null,
   "metadata": {},
   "outputs": [],
   "source": []
  },
  {
   "cell_type": "code",
   "execution_count": null,
   "metadata": {},
   "outputs": [],
   "source": [
    "pickle.dump(team_year_old_per_poss,open('ready_for_model_old_era.p','wb'))"
   ]
  },
  {
   "cell_type": "code",
   "execution_count": null,
   "metadata": {},
   "outputs": [],
   "source": []
  },
  {
   "cell_type": "code",
   "execution_count": null,
   "metadata": {},
   "outputs": [],
   "source": [
    "combined_data = pd.concat([team_year_new_per_poss, team_year_old_per_poss])"
   ]
  },
  {
   "cell_type": "code",
   "execution_count": null,
   "metadata": {},
   "outputs": [],
   "source": [
    "combined_data_ORtg_p1 = combined_data[['ORtg_p1','win_per','year']]\n",
    "combined_data_ORtg_p2 = combined_data[['ORtg_p2','win_per','year']]\n",
    "combined_data_ORtg_p3 = combined_data[['ORtg_p3','win_per','year']]\n",
    "combined_data_ORtg_p4 = combined_data[['ORtg_p4','win_per','year']]\n",
    "combined_data_ORtg_p5 = combined_data[['ORtg_p5','win_per','year']]\n",
    "\n",
    "combined_data_DRtg_p1 = combined_data[['DRtg_p1','win_per','year']]\n",
    "combined_data_DRtg_p2 = combined_data[['DRtg_p2','win_per','year']]\n",
    "combined_data_DRtg_p3 = combined_data[['DRtg_p3','win_per','year']]\n",
    "combined_data_DRtg_p4 = combined_data[['DRtg_p4','win_per','year']]\n",
    "combined_data_DRtg_p5 = combined_data[['DRtg_p5','win_per','year']]\n",
    "\n",
    "combined_data_ORtg_p1['value'] = 'ORtg_p1'\n",
    "combined_data_ORtg_p2['value'] = 'ORtg_p2'\n",
    "combined_data_ORtg_p3['value'] = 'ORtg_p3'\n",
    "combined_data_ORtg_p4['value'] = 'ORtg_p4'\n",
    "combined_data_ORtg_p5['value'] = 'ORtg_p5'\n",
    "\n",
    "combined_data_DRtg_p1['value'] = 'DRtg_p1'\n",
    "combined_data_DRtg_p2['value'] = 'DRtg_p2'\n",
    "combined_data_DRtg_p3['value'] = 'DRtg_p3'\n",
    "combined_data_DRtg_p4['value'] = 'DRtg_p4'\n",
    "combined_data_DRtg_p5['value'] = 'DRtg_p5'\n",
    "\n",
    "combined_data_ORtg_p1.rename(columns = {'ORtg_p1': 'rating'}, inplace = True)\n",
    "combined_data_ORtg_p2.rename(columns = {'ORtg_p2': 'rating'}, inplace = True)\n",
    "combined_data_ORtg_p3.rename(columns = {'ORtg_p3': 'rating'}, inplace = True)\n",
    "combined_data_ORtg_p4.rename(columns = {'ORtg_p4': 'rating'}, inplace = True)\n",
    "combined_data_ORtg_p5.rename(columns = {'ORtg_p5': 'rating'}, inplace = True)\n",
    "\n",
    "combined_data_DRtg_p1.rename(columns = {'DRtg_p1': 'rating'}, inplace = True)\n",
    "combined_data_DRtg_p2.rename(columns = {'DRtg_p2': 'rating'}, inplace = True)\n",
    "combined_data_DRtg_p3.rename(columns = {'DRtg_p3': 'rating'}, inplace = True)\n",
    "combined_data_DRtg_p4.rename(columns = {'DRtg_p4': 'rating'}, inplace = True)\n",
    "combined_data_DRtg_p5.rename(columns = {'DRtg_p5': 'rating'}, inplace = True)"
   ]
  },
  {
   "cell_type": "code",
   "execution_count": null,
   "metadata": {},
   "outputs": [],
   "source": [
    "combined_data_violin_plot = pd.concat([\n",
    "    combined_data_ORtg_p1,\n",
    "    combined_data_ORtg_p2,\n",
    "    combined_data_ORtg_p3,\n",
    "    combined_data_ORtg_p4,\n",
    "    combined_data_ORtg_p5,\n",
    "    combined_data_DRtg_p1,\n",
    "    combined_data_DRtg_p2,\n",
    "    combined_data_DRtg_p3,\n",
    "    combined_data_DRtg_p4,\n",
    "    combined_data_DRtg_p5, \n",
    "])"
   ]
  },
  {
   "cell_type": "code",
   "execution_count": null,
   "metadata": {},
   "outputs": [],
   "source": []
  },
  {
   "cell_type": "code",
   "execution_count": null,
   "metadata": {},
   "outputs": [],
   "source": [
    "a4_dims = (11.7, 8.27)\n",
    "fig, ax = plt.subplots(figsize=a4_dims)\n",
    "violin_plot = sns.violinplot(x = 'value', y ='rating', data = combined_data_violin_plot);\n",
    "violin_plot.set_xlabel('Features')\n",
    "violin_plot.set_ylabel('Points Per 100 Possession')\n",
    "plt.savefig('violinplot.svg',bbox_inches=\"tight\")"
   ]
  },
  {
   "cell_type": "code",
   "execution_count": null,
   "metadata": {},
   "outputs": [],
   "source": []
  },
  {
   "cell_type": "code",
   "execution_count": null,
   "metadata": {},
   "outputs": [],
   "source": []
  }
 ],
 "metadata": {
  "kernelspec": {
   "display_name": "Python 3",
   "language": "python",
   "name": "python3"
  },
  "language_info": {
   "codemirror_mode": {
    "name": "ipython",
    "version": 3
   },
   "file_extension": ".py",
   "mimetype": "text/x-python",
   "name": "python",
   "nbconvert_exporter": "python",
   "pygments_lexer": "ipython3",
   "version": "3.6.8"
  },
  "varInspector": {
   "cols": {
    "lenName": 16,
    "lenType": 16,
    "lenVar": 40
   },
   "kernels_config": {
    "python": {
     "delete_cmd_postfix": "",
     "delete_cmd_prefix": "del ",
     "library": "var_list.py",
     "varRefreshCmd": "print(var_dic_list())"
    },
    "r": {
     "delete_cmd_postfix": ") ",
     "delete_cmd_prefix": "rm(",
     "library": "var_list.r",
     "varRefreshCmd": "cat(var_dic_list()) "
    }
   },
   "types_to_exclude": [
    "module",
    "function",
    "builtin_function_or_method",
    "instance",
    "_Feature"
   ],
   "window_display": false
  }
 },
 "nbformat": 4,
 "nbformat_minor": 2
}
